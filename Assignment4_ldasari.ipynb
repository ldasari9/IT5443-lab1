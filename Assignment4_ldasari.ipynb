{
  "cells": [
    {
      "cell_type": "markdown",
      "metadata": {
        "id": "view-in-github",
        "colab_type": "text"
      },
      "source": [
        "<a href=\"https://colab.research.google.com/github/ldasari9/IT5443-lab1/blob/main/Assignment4_ldasari.ipynb\" target=\"_parent\"><img src=\"https://colab.research.google.com/assets/colab-badge.svg\" alt=\"Open In Colab\"/></a>"
      ]
    },
    {
      "cell_type": "code",
      "execution_count": null,
      "id": "2c7e413c-549f-4b59-95e2-f9b020495743",
      "metadata": {
        "id": "2c7e413c-549f-4b59-95e2-f9b020495743"
      },
      "outputs": [],
      "source": [
        "# Import necessary libraries\n",
        "import pandas as pd\n",
        "import matplotlib.pyplot as plt\n",
        "import seaborn as sns"
      ]
    },
    {
      "cell_type": "code",
      "execution_count": null,
      "id": "411f9cc0-5261-48b0-a5b1-177079fbca1c",
      "metadata": {
        "id": "411f9cc0-5261-48b0-a5b1-177079fbca1c",
        "outputId": "81d43af1-46a6-4e0d-9651-cb529c2b133f"
      },
      "outputs": [
        {
          "data": {
            "text/html": [
              "<div>\n",
              "<style scoped>\n",
              "    .dataframe tbody tr th:only-of-type {\n",
              "        vertical-align: middle;\n",
              "    }\n",
              "\n",
              "    .dataframe tbody tr th {\n",
              "        vertical-align: top;\n",
              "    }\n",
              "\n",
              "    .dataframe thead th {\n",
              "        text-align: right;\n",
              "    }\n",
              "</style>\n",
              "<table border=\"1\" class=\"dataframe\">\n",
              "  <thead>\n",
              "    <tr style=\"text-align: right;\">\n",
              "      <th></th>\n",
              "      <th>ID</th>\n",
              "      <th>ClumpThickness</th>\n",
              "      <th>UniformityOfCellSize</th>\n",
              "      <th>UniformityOfCellShape</th>\n",
              "      <th>MarginalAdhesion</th>\n",
              "      <th>SingleEpithelialCellSize</th>\n",
              "      <th>BareNuclei</th>\n",
              "      <th>BlandChromatin</th>\n",
              "      <th>NormalNucleoli</th>\n",
              "      <th>Mitoses</th>\n",
              "      <th>Class</th>\n",
              "    </tr>\n",
              "  </thead>\n",
              "  <tbody>\n",
              "    <tr>\n",
              "      <th>0</th>\n",
              "      <td>1000025</td>\n",
              "      <td>5</td>\n",
              "      <td>1</td>\n",
              "      <td>1</td>\n",
              "      <td>1</td>\n",
              "      <td>2</td>\n",
              "      <td>1</td>\n",
              "      <td>3</td>\n",
              "      <td>1</td>\n",
              "      <td>1</td>\n",
              "      <td>0.0</td>\n",
              "    </tr>\n",
              "    <tr>\n",
              "      <th>1</th>\n",
              "      <td>1002945</td>\n",
              "      <td>5</td>\n",
              "      <td>4</td>\n",
              "      <td>4</td>\n",
              "      <td>5</td>\n",
              "      <td>7</td>\n",
              "      <td>10</td>\n",
              "      <td>3</td>\n",
              "      <td>2</td>\n",
              "      <td>1</td>\n",
              "      <td>0.0</td>\n",
              "    </tr>\n",
              "    <tr>\n",
              "      <th>2</th>\n",
              "      <td>1015425</td>\n",
              "      <td>3</td>\n",
              "      <td>1</td>\n",
              "      <td>1</td>\n",
              "      <td>1</td>\n",
              "      <td>2</td>\n",
              "      <td>2</td>\n",
              "      <td>3</td>\n",
              "      <td>1</td>\n",
              "      <td>1</td>\n",
              "      <td>0.0</td>\n",
              "    </tr>\n",
              "    <tr>\n",
              "      <th>3</th>\n",
              "      <td>1016277</td>\n",
              "      <td>6</td>\n",
              "      <td>8</td>\n",
              "      <td>8</td>\n",
              "      <td>1</td>\n",
              "      <td>3</td>\n",
              "      <td>4</td>\n",
              "      <td>3</td>\n",
              "      <td>7</td>\n",
              "      <td>1</td>\n",
              "      <td>0.0</td>\n",
              "    </tr>\n",
              "    <tr>\n",
              "      <th>4</th>\n",
              "      <td>1017023</td>\n",
              "      <td>4</td>\n",
              "      <td>1</td>\n",
              "      <td>1</td>\n",
              "      <td>3</td>\n",
              "      <td>2</td>\n",
              "      <td>1</td>\n",
              "      <td>3</td>\n",
              "      <td>1</td>\n",
              "      <td>1</td>\n",
              "      <td>0.0</td>\n",
              "    </tr>\n",
              "  </tbody>\n",
              "</table>\n",
              "</div>"
            ],
            "text/plain": [
              "        ID  ClumpThickness  UniformityOfCellSize  UniformityOfCellShape  \\\n",
              "0  1000025               5                     1                      1   \n",
              "1  1002945               5                     4                      4   \n",
              "2  1015425               3                     1                      1   \n",
              "3  1016277               6                     8                      8   \n",
              "4  1017023               4                     1                      1   \n",
              "\n",
              "   MarginalAdhesion  SingleEpithelialCellSize  BareNuclei  BlandChromatin  \\\n",
              "0                 1                         2           1               3   \n",
              "1                 5                         7          10               3   \n",
              "2                 1                         2           2               3   \n",
              "3                 1                         3           4               3   \n",
              "4                 3                         2           1               3   \n",
              "\n",
              "   NormalNucleoli  Mitoses  Class  \n",
              "0               1        1    0.0  \n",
              "1               2        1    0.0  \n",
              "2               1        1    0.0  \n",
              "3               7        1    0.0  \n",
              "4               1        1    0.0  "
            ]
          },
          "execution_count": 7,
          "metadata": {},
          "output_type": "execute_result"
        }
      ],
      "source": [
        "file_path = r'/Users/lakshmiGayathri/Downloads/breast-cancer.csv'\n",
        "data = pd.read_csv(file_path)\n",
        "data.head()"
      ]
    },
    {
      "cell_type": "code",
      "execution_count": null,
      "id": "1cb29c96-2e50-47c4-8ecd-5677201baa4f",
      "metadata": {
        "id": "1cb29c96-2e50-47c4-8ecd-5677201baa4f",
        "outputId": "a0a0ad95-44d6-4e70-a903-310b1a419a40"
      },
      "outputs": [
        {
          "name": "stdout",
          "output_type": "stream",
          "text": [
            "Best parameters: {'C': 1}\n",
            "Cross-validation training accuracy: 0.9672838207447928\n",
            "Best parameters: {'C': 0.1, 'gamma': 0.01}\n",
            "Cross-validation training accuracy: 0.9692825583841783\n",
            "Testing accuracy for Linear SVM: 0.9666666666666667\n",
            "Testing accuracy for RBF Kernel SVM: 0.9619047619047619\n"
          ]
        }
      ],
      "source": [
        "from sklearn.model_selection import train_test_split, GridSearchCV\n",
        "from sklearn.svm import SVC\n",
        "from sklearn.metrics import accuracy_score\n",
        "\n",
        "\n",
        "# Preparing the data\n",
        "X = data.drop(['ID', 'Class'], axis=1)\n",
        "y = data['Class']\n",
        "\n",
        "# Split the data into training and testing sets\n",
        "X_train, X_test, y_train, y_test = train_test_split(X, y, test_size=0.3, random_state=42)\n",
        "\n",
        "# Define a function to perform Grid Search and cross-validation\n",
        "def grid_search(model, param_grid):\n",
        "    grid = GridSearchCV(estimator=model, param_grid=param_grid, cv=5, n_jobs=-1, scoring='accuracy')\n",
        "    grid.fit(X_train, y_train)\n",
        "    print(f\"Best parameters: {grid.best_params_}\")\n",
        "    print(f\"Cross-validation training accuracy: {grid.best_score_}\")\n",
        "    return grid.best_estimator_\n",
        "\n",
        "# Linear SVM\n",
        "linear_svm = SVC(kernel='linear')\n",
        "param_grid_linear = {'C': [0.1, 1, 10, 100]}\n",
        "best_linear_svm = grid_search(linear_svm, param_grid_linear)\n",
        "\n",
        "# RBF Kernel SVM\n",
        "rbf_svm = SVC(kernel='rbf')\n",
        "param_grid_rbf = {'C': [0.1, 1, 10, 100], 'gamma': [1, 0.1, 0.01, 0.001]}\n",
        "best_rbf_svm = grid_search(rbf_svm, param_grid_rbf)\n",
        "\n",
        "# Evaluate the models on the test set\n",
        "y_pred_linear = best_linear_svm.predict(X_test)\n",
        "y_pred_rbf = best_rbf_svm.predict(X_test)\n",
        "\n",
        "test_accuracy_linear = accuracy_score(y_test, y_pred_linear)\n",
        "test_accuracy_rbf = accuracy_score(y_test, y_pred_rbf)\n",
        "\n",
        "print(f\"Testing accuracy for Linear SVM: {test_accuracy_linear}\")\n",
        "print(f\"Testing accuracy for RBF Kernel SVM: {test_accuracy_rbf}\")"
      ]
    }
  ],
  "metadata": {
    "kernelspec": {
      "display_name": "Python 3 (ipykernel)",
      "language": "python",
      "name": "python3"
    },
    "language_info": {
      "codemirror_mode": {
        "name": "ipython",
        "version": 3
      },
      "file_extension": ".py",
      "mimetype": "text/x-python",
      "name": "python",
      "nbconvert_exporter": "python",
      "pygments_lexer": "ipython3",
      "version": "3.11.7"
    },
    "colab": {
      "provenance": [],
      "toc_visible": true,
      "include_colab_link": true
    }
  },
  "nbformat": 4,
  "nbformat_minor": 5
}